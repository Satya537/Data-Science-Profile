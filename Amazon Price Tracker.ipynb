{
 "cells": [
  {
   "cell_type": "markdown",
   "metadata": {},
   "source": [
    "# About the Project"
   ]
  },
  {
   "cell_type": "markdown",
   "metadata": {},
   "source": [
    "Product prices vary quite frequently on Amazon. During sales the prices decrease drastically compared to their trending prices. \n",
    "The project seeks to enable a user to track product details of a product listed on amazon. User can provide a file with a url and the desired price at which they want to buy the given product. When the price reaches or decreases beyond your desired price, the program sets off an alarm indicating that the product can be bought now.\n",
    "\n",
    "The code also provides an output file with metadata of the product in the url present. "
   ]
  },
  {
   "cell_type": "markdown",
   "metadata": {},
   "source": [
    "### A. Importing Packages"
   ]
  },
  {
   "cell_type": "code",
   "execution_count": 1,
   "metadata": {},
   "outputs": [],
   "source": [
    "import bs4 as bs\n",
    "from bs4 import BeautifulSoup\n",
    "import sys\n",
    "import schedule\n",
    "import time\n",
    "import requests\n",
    "import urllib.request\n",
    "import datetime\n",
    "import pandas as pd\n",
    "import winsound"
   ]
  },
  {
   "cell_type": "markdown",
   "metadata": {},
   "source": [
    "### B. Defining static variables and importing url files"
   ]
  },
  {
   "cell_type": "code",
   "execution_count": 2,
   "metadata": {},
   "outputs": [],
   "source": [
    "headers = {\"User-Agent\":\"Mozilla/5.0 (Windows NT 10.0; Win64; x64; rv:66.0) Gecko/20100101 Firefox/66.0\", \"Accept-Encoding\":\"gzip, deflate\", \"Accept\":\"text/html,application/xhtml+xml,application/xml;q=0.9,*/*;q=0.8\", \"DNT\":\"1\",\"Connection\":\"close\", \"Upgrade-Insecure-Requests\":\"1\"}\n",
    "frequency = 3000  # Set Frequency To 3000 Hertz\n",
    "duration = 1000  # Set Duration To 1000 ms == 1 second\n",
    "\n",
    "df_files_with_url = pd.read_csv('TRACKER_PRODUCTS.csv')\n",
    "df_files_with_url.dropna(inplace = True)"
   ]
  },
  {
   "cell_type": "markdown",
   "metadata": {},
   "source": [
    "### C. Defining function to scrape amazon website"
   ]
  },
  {
   "cell_type": "code",
   "execution_count": 3,
   "metadata": {},
   "outputs": [],
   "source": [
    "def mainprogram(headers, url, target_price):   \n",
    "    headers = headers\n",
    "\n",
    "    r = requests.get(url, headers = headers)\n",
    "    content = r.content\n",
    "    \n",
    "    soup = BeautifulSoup(content)\n",
    "    \n",
    "    #Extracting details from the url page\n",
    "    #Find Title \n",
    "    js_test = soup.find('title')\n",
    "    product_name = js_test.text\n",
    "    print(product_name)\n",
    "    #Current Price\n",
    "    js_money = soup.find(class_ = \"a-price-whole\")\n",
    "    current_price = float(js_money.text.replace(\",\", \"\"))\n",
    "    #Number of reviews\n",
    "    js_reviews = soup.find('span', id = \"acrCustomerReviewText\").text.split(\" \")[0]\n",
    "    reviews = int(js_reviews.replace(\",\", \"\"))\n",
    "    #Average Ratings\n",
    "    js_ratings = soup.find(class_ = \"a-icon-alt\").text.split(\" \")[0]\n",
    "    average_ratings = float(js_ratings)\n",
    "    #MRP\n",
    "    js_mrp = soup.find(class_ = \"a-size-small a-color-secondary aok-align-center basisPrice\")\n",
    "    js_mrp = soup.find(class_ = \"a-price a-text-price\").text.split(\"₹\")[1]\n",
    "    js_mrp = js_mrp.replace(\",\", \"\")\n",
    "    mrp = float(js_mrp)\n",
    "    #In Stock Status\n",
    "    js_stock = soup.find(class_ = \"a-size-medium a-color-success\").text.strip(\" \")\n",
    "    #Seller\n",
    "    js_seller = soup.find(class_ = \"a-size-base a-color-secondary a-nowrap\").text\n",
    "    #query_time\n",
    "    js_datetime = datetime.datetime.now().strftime(\"%d/%m/%Y %H:%M:%S\")\n",
    "    #Query Date\n",
    "    js_date = datetime.datetime.today().strftime(\"%d/%m/%Y\")\n",
    "    \n",
    "    data_dictionary_list = {'Product': [product_name], 'Price':[current_price],\n",
    "                      \"MRP\": [mrp],\n",
    "                      \"No. of Reviews\": [reviews], \n",
    "                      \"Average Ratings\": [average_ratings], \n",
    "                      \n",
    "                      \"Stock Availability Status\":[js_stock], \n",
    "                      \"Seller\":[js_seller],\n",
    "                      \"Time of Query\": [js_datetime], \n",
    "                      \"Date of Query\": [js_date]}\n",
    "    \n",
    "    df = pd.DataFrame(data_dictionary_list)\n",
    "    current_price = float(current_price)\n",
    "    your_price = target_price\n",
    "    if current_price < your_price :\n",
    "        print(\"Price decreased book now\")\n",
    "        winsound.Beep(frequency, duration)\n",
    "    else:\n",
    "        print(\"Price is high please wait for the best deal\")\n",
    "    #time.sleep(10)\n",
    "    return df"
   ]
  },
  {
   "cell_type": "markdown",
   "metadata": {},
   "source": [
    "### D. Defining the job to be executed"
   ]
  },
  {
   "cell_type": "code",
   "execution_count": 4,
   "metadata": {},
   "outputs": [],
   "source": [
    "def job():\n",
    "    df_master = pd.DataFrame()\n",
    "    print(\"Tracking....\")   \n",
    "    for i, row in df_files_with_url.iterrows():\n",
    "        df = mainprogram(headers, row['url'], row['Target Price'])\n",
    "        df_master = pd.concat([df_master, df], sort = False)\n",
    "    return df_master"
   ]
  },
  {
   "cell_type": "markdown",
   "metadata": {},
   "source": [
    "### E. Getting the product features"
   ]
  },
  {
   "cell_type": "code",
   "execution_count": 5,
   "metadata": {},
   "outputs": [
    {
     "name": "stdout",
     "output_type": "stream",
     "text": [
      "Tracking....\n",
      "Sony LinkBuds WF-L900 Truly Wireless Bluetooth Earbuds with Open-Ring Design for Ambient Sound, 17.5 Hrs Battery, DSEE, IPX4, 360RA, Swift Pair & True Wireless Earbuds with Alexa Built-in, Gray : Amazon.in: Electronics\n",
      "Price is high please wait for the best deal\n",
      "Sony WF-C500 Bluetooth Truly Wireless in Ear Earbuds with 20 Hrs Battery, True Wireless Earbuds with Mic for Phone Calls, Fast Pair | Instant Bank Discount of INR 1000 on Select Prepaid transactions : Amazon.in: Electronics\n",
      "Price decreased book now\n",
      "Sony WI-C100 Wireless Headphones with 25 Hrs Battery, Quick Charge, DSEE-Upscale, Splash Proof (IPX4), 360RA, Swift Pair, Fast Pair, in-Ear Bluetooth Headset with mic for Phone Calls & Music (Black) : Amazon.in: Electronics\n",
      "Price decreased book now\n"
     ]
    }
   ],
   "source": [
    "df_all_price_history = job()\n",
    "df_all_price_history.to_excel('Product_Details_Amazon.xlsx', index = False)"
   ]
  },
  {
   "cell_type": "markdown",
   "metadata": {},
   "source": [
    "### F. Auto Schedule price check"
   ]
  },
  {
   "cell_type": "code",
   "execution_count": 6,
   "metadata": {},
   "outputs": [
    {
     "ename": "KeyboardInterrupt",
     "evalue": "",
     "output_type": "error",
     "traceback": [
      "\u001b[1;31m---------------------------------------------------------------------------\u001b[0m",
      "\u001b[1;31mKeyboardInterrupt\u001b[0m                         Traceback (most recent call last)",
      "\u001b[1;32m<ipython-input-6-0b8700b20d6a>\u001b[0m in \u001b[0;36m<module>\u001b[1;34m\u001b[0m\n\u001b[0;32m      3\u001b[0m \u001b[1;32mwhile\u001b[0m \u001b[1;32mTrue\u001b[0m\u001b[1;33m:\u001b[0m\u001b[1;33m\u001b[0m\u001b[1;33m\u001b[0m\u001b[0m\n\u001b[0;32m      4\u001b[0m     \u001b[0mschedule\u001b[0m\u001b[1;33m.\u001b[0m\u001b[0mrun_pending\u001b[0m\u001b[1;33m(\u001b[0m\u001b[1;33m)\u001b[0m\u001b[1;33m\u001b[0m\u001b[1;33m\u001b[0m\u001b[0m\n\u001b[1;32m----> 5\u001b[1;33m     \u001b[0mtime\u001b[0m\u001b[1;33m.\u001b[0m\u001b[0msleep\u001b[0m\u001b[1;33m(\u001b[0m\u001b[1;36m1\u001b[0m\u001b[1;33m)\u001b[0m\u001b[1;33m\u001b[0m\u001b[1;33m\u001b[0m\u001b[0m\n\u001b[0m",
      "\u001b[1;31mKeyboardInterrupt\u001b[0m: "
     ]
    }
   ],
   "source": [
    "schedule.every(30).minutes.do(job)\n",
    "  \n",
    "while True:\n",
    "    schedule.run_pending()\n",
    "    time.sleep(1)"
   ]
  },
  {
   "cell_type": "markdown",
   "metadata": {},
   "source": [
    "### G. Scheduling the run every day"
   ]
  },
  {
   "cell_type": "code",
   "execution_count": null,
   "metadata": {},
   "outputs": [],
   "source": [
    "schedule.every().day.at(\"18:45\").do(job,'It is 18:45')\n",
    "\n",
    "while True:\n",
    "    schedule.run_pending()\n",
    "    time.sleep(60)"
   ]
  },
  {
   "cell_type": "code",
   "execution_count": null,
   "metadata": {},
   "outputs": [],
   "source": []
  }
 ],
 "metadata": {
  "kernelspec": {
   "display_name": "Python 3",
   "language": "python",
   "name": "python3"
  },
  "language_info": {
   "codemirror_mode": {
    "name": "ipython",
    "version": 3
   },
   "file_extension": ".py",
   "mimetype": "text/x-python",
   "name": "python",
   "nbconvert_exporter": "python",
   "pygments_lexer": "ipython3",
   "version": "3.8.5"
  }
 },
 "nbformat": 4,
 "nbformat_minor": 4
}
